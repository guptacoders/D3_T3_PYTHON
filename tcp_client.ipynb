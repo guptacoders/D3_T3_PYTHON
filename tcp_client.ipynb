{
 "cells": [
  {
   "cell_type": "code",
   "execution_count": 1,
   "metadata": {},
   "outputs": [
    {
     "name": "stdout",
     "output_type": "stream",
     "text": [
      "306C-203\n",
      "-->kk\n",
      "Received from server:  ll\n",
      "-->\n"
     ]
    }
   ],
   "source": [
    "import socket\n",
    "host=socket.gethostname()\n",
    "print(host)\n",
    "\n",
    "port=5000\n",
    "addr=(host,port)\n",
    "\n",
    "client_socket=socket.socket()\n",
    "client_socket.connect(addr)\n",
    "msg=input(\"-->\")\n",
    "\n",
    "while msg!=\"\":\n",
    "    client_socket.send(msg.encode())\n",
    "    data=client_socket.recv(1024).decode()\n",
    "    print(\"Received from server: \",data)\n",
    "    msg=input(\"-->\")\n",
    "\n",
    "client_socket.close()"
   ]
  },
  {
   "cell_type": "code",
   "execution_count": null,
   "metadata": {},
   "outputs": [],
   "source": []
  }
 ],
 "metadata": {
  "kernelspec": {
   "display_name": "Python 3",
   "language": "python",
   "name": "python3"
  },
  "language_info": {
   "codemirror_mode": {
    "name": "ipython",
    "version": 3
   },
   "file_extension": ".py",
   "mimetype": "text/x-python",
   "name": "python",
   "nbconvert_exporter": "python",
   "pygments_lexer": "ipython3",
   "version": "3.8.5"
  }
 },
 "nbformat": 4,
 "nbformat_minor": 4
}
