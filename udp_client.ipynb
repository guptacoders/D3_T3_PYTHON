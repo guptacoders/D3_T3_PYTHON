{
 "cells": [
  {
   "cell_type": "code",
   "execution_count": null,
   "metadata": {},
   "outputs": [
    {
     "name": "stdout",
     "output_type": "stream",
     "text": [
      "Enter data to sent: hi\n",
      "Ready to receive\n",
      "Received data:  b'hello'\n",
      "Enter data to sent: huu\n",
      "Ready to receive\n"
     ]
    }
   ],
   "source": [
    "import socket\n",
    "host='localhost'\n",
    "port=5600\n",
    "udp_client=socket.socket(type=socket.SOCK_DGRAM)\n",
    "while True:\n",
    "    data=input(\"Enter data to sent: \")\n",
    "    if not data:\n",
    "        break\n",
    "        \n",
    "    udp_client.sendto(data.encode(),(host,port))\n",
    "    print(\"Ready to receive\")\n",
    "    data,addr=udp_client.recvfrom(1024)\n",
    "    if not data:\n",
    "        break\n",
    "    print(\"Received data: \",data)\n",
    "    \n",
    "udp_client.close()"
   ]
  },
  {
   "cell_type": "code",
   "execution_count": null,
   "metadata": {},
   "outputs": [],
   "source": []
  }
 ],
 "metadata": {
  "kernelspec": {
   "display_name": "Python 3",
   "language": "python",
   "name": "python3"
  },
  "language_info": {
   "codemirror_mode": {
    "name": "ipython",
    "version": 3
   },
   "file_extension": ".py",
   "mimetype": "text/x-python",
   "name": "python",
   "nbconvert_exporter": "python",
   "pygments_lexer": "ipython3",
   "version": "3.8.5"
  }
 },
 "nbformat": 4,
 "nbformat_minor": 4
}
