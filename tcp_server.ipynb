{
 "cells": [
  {
   "cell_type": "code",
   "execution_count": null,
   "metadata": {},
   "outputs": [],
   "source": [
    "import socket\n",
    "host=socket.gethostname()\n",
    "print(host)\n",
    "\n",
    "port=5000\n",
    "addr=(host,port)\n",
    "server_socket=socket.socket()\n",
    "server_socket.bind(addr)\n",
    "server_socket.listen()\n",
    "conn,address=server_socket.accept()\n",
    "\n",
    "print(\"Connection From: \",str(address))\n",
    "\n",
    "while True:\n",
    "    data=conn.recv(1024).decode()\n",
    "    \n",
    "    if not data:\n",
    "        break\n",
    "    print(data)\n",
    "    \n",
    "    data=input(\"-->\")\n",
    "    conn.send(data.encode())\n",
    "conn.close()"
   ]
  },
  {
   "cell_type": "code",
   "execution_count": null,
   "metadata": {},
   "outputs": [],
   "source": []
  }
 ],
 "metadata": {
  "kernelspec": {
   "display_name": "Python 3",
   "language": "python",
   "name": "python3"
  },
  "language_info": {
   "codemirror_mode": {
    "name": "ipython",
    "version": 3
   },
   "file_extension": ".py",
   "mimetype": "text/x-python",
   "name": "python",
   "nbconvert_exporter": "python",
   "pygments_lexer": "ipython3",
   "version": "3.8.5"
  }
 },
 "nbformat": 4,
 "nbformat_minor": 4
}
